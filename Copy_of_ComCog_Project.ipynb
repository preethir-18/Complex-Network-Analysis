{
  "nbformat": 4,
  "nbformat_minor": 0,
  "metadata": {
    "colab": {
      "provenance": [],
      "authorship_tag": "ABX9TyOINOySJ0tldL4d4w7xKVd6",
      "include_colab_link": true
    },
    "kernelspec": {
      "name": "python3",
      "display_name": "Python 3"
    },
    "language_info": {
      "name": "python"
    }
  },
  "cells": [
    {
      "cell_type": "markdown",
      "metadata": {
        "id": "view-in-github",
        "colab_type": "text"
      },
      "source": [
        "<a href=\"https://colab.research.google.com/github/preethir-18/Complex-Network-Analysis/blob/main/Copy_of_ComCog_Project.ipynb\" target=\"_parent\"><img src=\"https://colab.research.google.com/assets/colab-badge.svg\" alt=\"Open In Colab\"/></a>"
      ]
    },
    {
      "cell_type": "code",
      "execution_count": null,
      "metadata": {
        "id": "RPXtOdegl_PO",
        "colab": {
          "base_uri": "https://localhost:8080/"
        },
        "outputId": "fc6505ed-294b-4482-edbe-fed68e441a29"
      },
      "outputs": [
        {
          "output_type": "stream",
          "name": "stdout",
          "text": [
            "Mounted at /content/drive\n"
          ]
        }
      ],
      "source": [
        "\n",
        "from google.colab import drive\n",
        "drive.mount('/content/drive')"
      ]
    },
    {
      "cell_type": "code",
      "source": [
        "!pip install mne\n",
        "!pip install mat73\n",
        "!pip install mne_connectivity\n",
        "!pip install networkx"
      ],
      "metadata": {
        "id": "q2eH1HLCmPyM"
      },
      "execution_count": null,
      "outputs": []
    },
    {
      "cell_type": "code",
      "source": [
        "import numpy as np\n",
        "import mne\n",
        "from scipy.io import loadmat\n",
        "import mat73\n",
        "from matplotlib import pyplot as plt \n",
        "from mne_connectivity import spectral_connectivity_epochs\n",
        "import networkx as nx\n",
        "import pandas as pd"
      ],
      "metadata": {
        "id": "Wilr-f0YmWpO"
      },
      "execution_count": null,
      "outputs": []
    },
    {
      "cell_type": "code",
      "source": [
        "import seaborn as sns\n",
        "import networkx.algorithms.community as nx_comm\n",
        "from networkx.algorithms.community import greedy_modularity_communities"
      ],
      "metadata": {
        "id": "gnzaMt4bUI8R"
      },
      "execution_count": null,
      "outputs": []
    },
    {
      "cell_type": "code",
      "source": [
        "mne.set_log_level('error')"
      ],
      "metadata": {
        "id": "seYQ3i4GqmEY"
      },
      "execution_count": null,
      "outputs": []
    },
    {
      "cell_type": "code",
      "source": [
        "#Importing data of subject 1\n",
        "\n",
        "data = mat73.loadmat(r\"/content/drive/MyDrive/ComCog Project Data/music_listening_experiment_s01.mat\", only_include = None)"
      ],
      "metadata": {
        "id": "92OSNen0mZHX"
      },
      "execution_count": null,
      "outputs": []
    },
    {
      "cell_type": "code",
      "source": [
        "data"
      ],
      "metadata": {
        "id": "asaRIU0Mp05f"
      },
      "execution_count": null,
      "outputs": []
    },
    {
      "cell_type": "code",
      "source": [
        "eeg_songs = data['EEG_Songs']\n",
        "s_freq = data['Fs']  #sampling frequency = 128\n",
        "channel=['AF3','F7','F3','FC5','T7','P7','O1','O2','P8','T8','FC6','F4','F8','AF4']\n",
        "ch_name = np.array(channel)"
      ],
      "metadata": {
        "id": "Qi8j71clmgP-"
      },
      "execution_count": null,
      "outputs": []
    },
    {
      "cell_type": "code",
      "source": [
        "eeg_song = dict()\n",
        "for  song_no in range(30):  #30 songs are used in the study\n",
        "  eeg_songs = ((data['EEG_Songs'])[song_no])\n",
        "  eeg_song[song_no] = eeg_songs\n",
        "  eeg_songs = np.empty((14, 10240))\n",
        "\n",
        "s_rate_list = data['song_ratings']"
      ],
      "metadata": {
        "id": "hgtEdrYtxDrw"
      },
      "execution_count": null,
      "outputs": []
    },
    {
      "cell_type": "code",
      "source": [
        "rate_1 = []\n",
        "rate_5 = []\n",
        "for i in range(30):\n",
        "  if(s_rate_list[i] == 1):\n",
        "    rate_1.append(i)\n",
        "  elif(s_rate_list[i] == 5):\n",
        "    rate_5.append(i)\n"
      ],
      "metadata": {
        "id": "NNQRpZrd7c5I"
      },
      "execution_count": null,
      "outputs": []
    },
    {
      "cell_type": "markdown",
      "source": [
        "CONNECTIVITY MATRICES"
      ],
      "metadata": {
        "id": "DKwAvcxbtwMT"
      }
    },
    {
      "cell_type": "code",
      "source": [
        "#epoching the given data\n",
        "epoch = dict()\n",
        "for song_no in range(30):\n",
        "  epochs=np.empty((80,14,128))\n",
        "  a=0\n",
        "  b=128\n",
        "  for i in range(80):\n",
        "    for j in range(14):\n",
        "      channels = (eeg_song[song_no])[j]\n",
        "      seg = np.array(channels[a:b])\n",
        "      for k in range(128):\n",
        "        epochs[i,j,k] = seg[k]\n",
        "    a=b\n",
        "    b=a+128\n",
        "    epoch[song_no] = epochs"
      ],
      "metadata": {
        "id": "yRXwh4ww0vYs"
      },
      "execution_count": null,
      "outputs": []
    },
    {
      "cell_type": "code",
      "source": [
        "#Lower and Upper frequency band of interest\n",
        "\n",
        "fmin = 30.0\n",
        "fmax = 45.0"
      ],
      "metadata": {
        "id": "wcUvxG96p41Z"
      },
      "execution_count": null,
      "outputs": []
    },
    {
      "cell_type": "code",
      "source": [
        "#Computing WPLI for each phase relationship\n",
        "\n",
        "matrix = dict()\n",
        "\n",
        "for song_no in range(30):\n",
        "  matrices = spectral_connectivity_epochs(epoch[song_no], names=ch_name, method='wpli', indices=None, sfreq=s_freq,fmin=fmin,fmax=fmax,faverage=True)\n",
        "  matrix[song_no] = matrices\n"
      ],
      "metadata": {
        "id": "TfGrwMx1w9sK"
      },
      "execution_count": null,
      "outputs": []
    },
    {
      "cell_type": "code",
      "source": [
        "#Connectivity matrix computed using WPLI\n",
        "\n",
        "conmat = dict()\n",
        "\n",
        "for song_no in range(30):\n",
        "  conmats = matrix[song_no].get_data(output='dense')[:, :, 0]\n",
        "  conmat[song_no] = conmats"
      ],
      "metadata": {
        "id": "-rFkNJpg3lbG"
      },
      "execution_count": null,
      "outputs": []
    },
    {
      "cell_type": "code",
      "source": [
        "t = conmat[10]\n",
        "c = pd.DataFrame(t, index=channel, columns=channel)\n",
        "plt.figure(figsize=(10,8))\n",
        "plot = sns.heatmap(c)\n",
        "plt.savefig('song11.png')"
      ],
      "metadata": {
        "id": "SgphmZ8oX7ZP"
      },
      "execution_count": null,
      "outputs": []
    },
    {
      "cell_type": "code",
      "source": [
        "#Computing the connectivity matrics for all songs after applying different thresholds\n",
        "\n",
        "threshold_mat = dict()\n",
        "\n",
        "threshold = [0.2, 0.3, 0.4]\n",
        "\n",
        "for song_no in range(30):\n",
        "  thresh_mat = dict()\n",
        "  conmat_new = np.empty((14,14))\n",
        "  for value in threshold:\n",
        "    for i in range(14):\n",
        "      for j in range(14):\n",
        "        if((conmat[song_no])[i, j] >= value):\n",
        "          conmat_new[i, j] = (conmat[song_no])[i, j]\n",
        "        else:\n",
        "          conmat_new[i, j] = 0.0\n",
        "    thresh_mat[value] = conmat_new\n",
        "    conmat_new = np.empty((14,14))\n",
        "  threshold_mat[song_no] = thresh_mat\n",
        "  thresh_mat = dict()"
      ],
      "metadata": {
        "id": "71BDgKTw4P4O"
      },
      "execution_count": null,
      "outputs": []
    },
    {
      "cell_type": "code",
      "source": [
        "temp = (np.array((threshold_mat[0])[0.3]))\n",
        "cmat = pd.DataFrame(temp, index=channel, columns=channel)\n",
        "plt.figure(figsize=(10,8))\n",
        "plot = sns.heatmap(cmat)\n",
        "plt.savefig('song1_0.3.png')"
      ],
      "metadata": {
        "id": "Y_nW2TIzhwML"
      },
      "execution_count": null,
      "outputs": []
    },
    {
      "cell_type": "code",
      "source": [
        "cmat"
      ],
      "metadata": {
        "id": "hmY7kiWMoPF3",
        "outputId": "9f0b7f88-fa5f-4460-d4c4-f112fe99bf65",
        "colab": {
          "base_uri": "https://localhost:8080/",
          "height": 488
        }
      },
      "execution_count": null,
      "outputs": [
        {
          "output_type": "execute_result",
          "data": {
            "text/plain": [
              "     AF3        F7        F3       FC5        T7   P7   O1   O2   P8  \\\n",
              "AF3  0.0  0.000000  0.000000  0.000000  0.000000  0.0  0.0  0.0  0.0   \n",
              "F7   0.0  0.000000  0.000000  0.000000  0.000000  0.0  0.0  0.0  0.0   \n",
              "F3   0.0  0.000000  0.000000  0.000000  0.000000  0.0  0.0  0.0  0.0   \n",
              "FC5  0.0  0.000000  0.386693  0.000000  0.000000  0.0  0.0  0.0  0.0   \n",
              "T7   0.0  0.550688  0.462379  0.410762  0.000000  0.0  0.0  0.0  0.0   \n",
              "P7   0.0  0.000000  0.000000  0.000000  0.000000  0.0  0.0  0.0  0.0   \n",
              "O1   0.0  0.000000  0.000000  0.000000  0.357933  0.0  0.0  0.0  0.0   \n",
              "O2   0.0  0.000000  0.000000  0.000000  0.469961  0.0  0.0  0.0  0.0   \n",
              "P8   0.0  0.000000  0.000000  0.000000  0.530276  0.0  0.0  0.0  0.0   \n",
              "T8   0.0  0.000000  0.000000  0.000000  0.329551  0.0  0.0  0.0  0.0   \n",
              "FC6  0.0  0.000000  0.000000  0.000000  0.527853  0.0  0.0  0.0  0.0   \n",
              "F4   0.0  0.000000  0.000000  0.000000  0.484883  0.0  0.0  0.0  0.0   \n",
              "F8   0.0  0.000000  0.000000  0.000000  0.546454  0.0  0.0  0.0  0.0   \n",
              "AF4  0.0  0.000000  0.000000  0.000000  0.356463  0.0  0.0  0.0  0.0   \n",
              "\n",
              "           T8  FC6   F4   F8  AF4  \n",
              "AF3  0.000000  0.0  0.0  0.0  0.0  \n",
              "F7   0.000000  0.0  0.0  0.0  0.0  \n",
              "F3   0.000000  0.0  0.0  0.0  0.0  \n",
              "FC5  0.000000  0.0  0.0  0.0  0.0  \n",
              "T7   0.000000  0.0  0.0  0.0  0.0  \n",
              "P7   0.000000  0.0  0.0  0.0  0.0  \n",
              "O1   0.000000  0.0  0.0  0.0  0.0  \n",
              "O2   0.000000  0.0  0.0  0.0  0.0  \n",
              "P8   0.000000  0.0  0.0  0.0  0.0  \n",
              "T8   0.000000  0.0  0.0  0.0  0.0  \n",
              "FC6  0.504016  0.0  0.0  0.0  0.0  \n",
              "F4   0.000000  0.0  0.0  0.0  0.0  \n",
              "F8   0.000000  0.0  0.0  0.0  0.0  \n",
              "AF4  0.000000  0.0  0.0  0.0  0.0  "
            ],
            "text/html": [
              "\n",
              "  <div id=\"df-fee42256-726b-4eba-9712-b40b921312e6\">\n",
              "    <div class=\"colab-df-container\">\n",
              "      <div>\n",
              "<style scoped>\n",
              "    .dataframe tbody tr th:only-of-type {\n",
              "        vertical-align: middle;\n",
              "    }\n",
              "\n",
              "    .dataframe tbody tr th {\n",
              "        vertical-align: top;\n",
              "    }\n",
              "\n",
              "    .dataframe thead th {\n",
              "        text-align: right;\n",
              "    }\n",
              "</style>\n",
              "<table border=\"1\" class=\"dataframe\">\n",
              "  <thead>\n",
              "    <tr style=\"text-align: right;\">\n",
              "      <th></th>\n",
              "      <th>AF3</th>\n",
              "      <th>F7</th>\n",
              "      <th>F3</th>\n",
              "      <th>FC5</th>\n",
              "      <th>T7</th>\n",
              "      <th>P7</th>\n",
              "      <th>O1</th>\n",
              "      <th>O2</th>\n",
              "      <th>P8</th>\n",
              "      <th>T8</th>\n",
              "      <th>FC6</th>\n",
              "      <th>F4</th>\n",
              "      <th>F8</th>\n",
              "      <th>AF4</th>\n",
              "    </tr>\n",
              "  </thead>\n",
              "  <tbody>\n",
              "    <tr>\n",
              "      <th>AF3</th>\n",
              "      <td>0.0</td>\n",
              "      <td>0.000000</td>\n",
              "      <td>0.000000</td>\n",
              "      <td>0.000000</td>\n",
              "      <td>0.000000</td>\n",
              "      <td>0.0</td>\n",
              "      <td>0.0</td>\n",
              "      <td>0.0</td>\n",
              "      <td>0.0</td>\n",
              "      <td>0.000000</td>\n",
              "      <td>0.0</td>\n",
              "      <td>0.0</td>\n",
              "      <td>0.0</td>\n",
              "      <td>0.0</td>\n",
              "    </tr>\n",
              "    <tr>\n",
              "      <th>F7</th>\n",
              "      <td>0.0</td>\n",
              "      <td>0.000000</td>\n",
              "      <td>0.000000</td>\n",
              "      <td>0.000000</td>\n",
              "      <td>0.000000</td>\n",
              "      <td>0.0</td>\n",
              "      <td>0.0</td>\n",
              "      <td>0.0</td>\n",
              "      <td>0.0</td>\n",
              "      <td>0.000000</td>\n",
              "      <td>0.0</td>\n",
              "      <td>0.0</td>\n",
              "      <td>0.0</td>\n",
              "      <td>0.0</td>\n",
              "    </tr>\n",
              "    <tr>\n",
              "      <th>F3</th>\n",
              "      <td>0.0</td>\n",
              "      <td>0.000000</td>\n",
              "      <td>0.000000</td>\n",
              "      <td>0.000000</td>\n",
              "      <td>0.000000</td>\n",
              "      <td>0.0</td>\n",
              "      <td>0.0</td>\n",
              "      <td>0.0</td>\n",
              "      <td>0.0</td>\n",
              "      <td>0.000000</td>\n",
              "      <td>0.0</td>\n",
              "      <td>0.0</td>\n",
              "      <td>0.0</td>\n",
              "      <td>0.0</td>\n",
              "    </tr>\n",
              "    <tr>\n",
              "      <th>FC5</th>\n",
              "      <td>0.0</td>\n",
              "      <td>0.000000</td>\n",
              "      <td>0.386693</td>\n",
              "      <td>0.000000</td>\n",
              "      <td>0.000000</td>\n",
              "      <td>0.0</td>\n",
              "      <td>0.0</td>\n",
              "      <td>0.0</td>\n",
              "      <td>0.0</td>\n",
              "      <td>0.000000</td>\n",
              "      <td>0.0</td>\n",
              "      <td>0.0</td>\n",
              "      <td>0.0</td>\n",
              "      <td>0.0</td>\n",
              "    </tr>\n",
              "    <tr>\n",
              "      <th>T7</th>\n",
              "      <td>0.0</td>\n",
              "      <td>0.550688</td>\n",
              "      <td>0.462379</td>\n",
              "      <td>0.410762</td>\n",
              "      <td>0.000000</td>\n",
              "      <td>0.0</td>\n",
              "      <td>0.0</td>\n",
              "      <td>0.0</td>\n",
              "      <td>0.0</td>\n",
              "      <td>0.000000</td>\n",
              "      <td>0.0</td>\n",
              "      <td>0.0</td>\n",
              "      <td>0.0</td>\n",
              "      <td>0.0</td>\n",
              "    </tr>\n",
              "    <tr>\n",
              "      <th>P7</th>\n",
              "      <td>0.0</td>\n",
              "      <td>0.000000</td>\n",
              "      <td>0.000000</td>\n",
              "      <td>0.000000</td>\n",
              "      <td>0.000000</td>\n",
              "      <td>0.0</td>\n",
              "      <td>0.0</td>\n",
              "      <td>0.0</td>\n",
              "      <td>0.0</td>\n",
              "      <td>0.000000</td>\n",
              "      <td>0.0</td>\n",
              "      <td>0.0</td>\n",
              "      <td>0.0</td>\n",
              "      <td>0.0</td>\n",
              "    </tr>\n",
              "    <tr>\n",
              "      <th>O1</th>\n",
              "      <td>0.0</td>\n",
              "      <td>0.000000</td>\n",
              "      <td>0.000000</td>\n",
              "      <td>0.000000</td>\n",
              "      <td>0.357933</td>\n",
              "      <td>0.0</td>\n",
              "      <td>0.0</td>\n",
              "      <td>0.0</td>\n",
              "      <td>0.0</td>\n",
              "      <td>0.000000</td>\n",
              "      <td>0.0</td>\n",
              "      <td>0.0</td>\n",
              "      <td>0.0</td>\n",
              "      <td>0.0</td>\n",
              "    </tr>\n",
              "    <tr>\n",
              "      <th>O2</th>\n",
              "      <td>0.0</td>\n",
              "      <td>0.000000</td>\n",
              "      <td>0.000000</td>\n",
              "      <td>0.000000</td>\n",
              "      <td>0.469961</td>\n",
              "      <td>0.0</td>\n",
              "      <td>0.0</td>\n",
              "      <td>0.0</td>\n",
              "      <td>0.0</td>\n",
              "      <td>0.000000</td>\n",
              "      <td>0.0</td>\n",
              "      <td>0.0</td>\n",
              "      <td>0.0</td>\n",
              "      <td>0.0</td>\n",
              "    </tr>\n",
              "    <tr>\n",
              "      <th>P8</th>\n",
              "      <td>0.0</td>\n",
              "      <td>0.000000</td>\n",
              "      <td>0.000000</td>\n",
              "      <td>0.000000</td>\n",
              "      <td>0.530276</td>\n",
              "      <td>0.0</td>\n",
              "      <td>0.0</td>\n",
              "      <td>0.0</td>\n",
              "      <td>0.0</td>\n",
              "      <td>0.000000</td>\n",
              "      <td>0.0</td>\n",
              "      <td>0.0</td>\n",
              "      <td>0.0</td>\n",
              "      <td>0.0</td>\n",
              "    </tr>\n",
              "    <tr>\n",
              "      <th>T8</th>\n",
              "      <td>0.0</td>\n",
              "      <td>0.000000</td>\n",
              "      <td>0.000000</td>\n",
              "      <td>0.000000</td>\n",
              "      <td>0.329551</td>\n",
              "      <td>0.0</td>\n",
              "      <td>0.0</td>\n",
              "      <td>0.0</td>\n",
              "      <td>0.0</td>\n",
              "      <td>0.000000</td>\n",
              "      <td>0.0</td>\n",
              "      <td>0.0</td>\n",
              "      <td>0.0</td>\n",
              "      <td>0.0</td>\n",
              "    </tr>\n",
              "    <tr>\n",
              "      <th>FC6</th>\n",
              "      <td>0.0</td>\n",
              "      <td>0.000000</td>\n",
              "      <td>0.000000</td>\n",
              "      <td>0.000000</td>\n",
              "      <td>0.527853</td>\n",
              "      <td>0.0</td>\n",
              "      <td>0.0</td>\n",
              "      <td>0.0</td>\n",
              "      <td>0.0</td>\n",
              "      <td>0.504016</td>\n",
              "      <td>0.0</td>\n",
              "      <td>0.0</td>\n",
              "      <td>0.0</td>\n",
              "      <td>0.0</td>\n",
              "    </tr>\n",
              "    <tr>\n",
              "      <th>F4</th>\n",
              "      <td>0.0</td>\n",
              "      <td>0.000000</td>\n",
              "      <td>0.000000</td>\n",
              "      <td>0.000000</td>\n",
              "      <td>0.484883</td>\n",
              "      <td>0.0</td>\n",
              "      <td>0.0</td>\n",
              "      <td>0.0</td>\n",
              "      <td>0.0</td>\n",
              "      <td>0.000000</td>\n",
              "      <td>0.0</td>\n",
              "      <td>0.0</td>\n",
              "      <td>0.0</td>\n",
              "      <td>0.0</td>\n",
              "    </tr>\n",
              "    <tr>\n",
              "      <th>F8</th>\n",
              "      <td>0.0</td>\n",
              "      <td>0.000000</td>\n",
              "      <td>0.000000</td>\n",
              "      <td>0.000000</td>\n",
              "      <td>0.546454</td>\n",
              "      <td>0.0</td>\n",
              "      <td>0.0</td>\n",
              "      <td>0.0</td>\n",
              "      <td>0.0</td>\n",
              "      <td>0.000000</td>\n",
              "      <td>0.0</td>\n",
              "      <td>0.0</td>\n",
              "      <td>0.0</td>\n",
              "      <td>0.0</td>\n",
              "    </tr>\n",
              "    <tr>\n",
              "      <th>AF4</th>\n",
              "      <td>0.0</td>\n",
              "      <td>0.000000</td>\n",
              "      <td>0.000000</td>\n",
              "      <td>0.000000</td>\n",
              "      <td>0.356463</td>\n",
              "      <td>0.0</td>\n",
              "      <td>0.0</td>\n",
              "      <td>0.0</td>\n",
              "      <td>0.0</td>\n",
              "      <td>0.000000</td>\n",
              "      <td>0.0</td>\n",
              "      <td>0.0</td>\n",
              "      <td>0.0</td>\n",
              "      <td>0.0</td>\n",
              "    </tr>\n",
              "  </tbody>\n",
              "</table>\n",
              "</div>\n",
              "      <button class=\"colab-df-convert\" onclick=\"convertToInteractive('df-fee42256-726b-4eba-9712-b40b921312e6')\"\n",
              "              title=\"Convert this dataframe to an interactive table.\"\n",
              "              style=\"display:none;\">\n",
              "        \n",
              "  <svg xmlns=\"http://www.w3.org/2000/svg\" height=\"24px\"viewBox=\"0 0 24 24\"\n",
              "       width=\"24px\">\n",
              "    <path d=\"M0 0h24v24H0V0z\" fill=\"none\"/>\n",
              "    <path d=\"M18.56 5.44l.94 2.06.94-2.06 2.06-.94-2.06-.94-.94-2.06-.94 2.06-2.06.94zm-11 1L8.5 8.5l.94-2.06 2.06-.94-2.06-.94L8.5 2.5l-.94 2.06-2.06.94zm10 10l.94 2.06.94-2.06 2.06-.94-2.06-.94-.94-2.06-.94 2.06-2.06.94z\"/><path d=\"M17.41 7.96l-1.37-1.37c-.4-.4-.92-.59-1.43-.59-.52 0-1.04.2-1.43.59L10.3 9.45l-7.72 7.72c-.78.78-.78 2.05 0 2.83L4 21.41c.39.39.9.59 1.41.59.51 0 1.02-.2 1.41-.59l7.78-7.78 2.81-2.81c.8-.78.8-2.07 0-2.86zM5.41 20L4 18.59l7.72-7.72 1.47 1.35L5.41 20z\"/>\n",
              "  </svg>\n",
              "      </button>\n",
              "      \n",
              "  <style>\n",
              "    .colab-df-container {\n",
              "      display:flex;\n",
              "      flex-wrap:wrap;\n",
              "      gap: 12px;\n",
              "    }\n",
              "\n",
              "    .colab-df-convert {\n",
              "      background-color: #E8F0FE;\n",
              "      border: none;\n",
              "      border-radius: 50%;\n",
              "      cursor: pointer;\n",
              "      display: none;\n",
              "      fill: #1967D2;\n",
              "      height: 32px;\n",
              "      padding: 0 0 0 0;\n",
              "      width: 32px;\n",
              "    }\n",
              "\n",
              "    .colab-df-convert:hover {\n",
              "      background-color: #E2EBFA;\n",
              "      box-shadow: 0px 1px 2px rgba(60, 64, 67, 0.3), 0px 1px 3px 1px rgba(60, 64, 67, 0.15);\n",
              "      fill: #174EA6;\n",
              "    }\n",
              "\n",
              "    [theme=dark] .colab-df-convert {\n",
              "      background-color: #3B4455;\n",
              "      fill: #D2E3FC;\n",
              "    }\n",
              "\n",
              "    [theme=dark] .colab-df-convert:hover {\n",
              "      background-color: #434B5C;\n",
              "      box-shadow: 0px 1px 3px 1px rgba(0, 0, 0, 0.15);\n",
              "      filter: drop-shadow(0px 1px 2px rgba(0, 0, 0, 0.3));\n",
              "      fill: #FFFFFF;\n",
              "    }\n",
              "  </style>\n",
              "\n",
              "      <script>\n",
              "        const buttonEl =\n",
              "          document.querySelector('#df-fee42256-726b-4eba-9712-b40b921312e6 button.colab-df-convert');\n",
              "        buttonEl.style.display =\n",
              "          google.colab.kernel.accessAllowed ? 'block' : 'none';\n",
              "\n",
              "        async function convertToInteractive(key) {\n",
              "          const element = document.querySelector('#df-fee42256-726b-4eba-9712-b40b921312e6');\n",
              "          const dataTable =\n",
              "            await google.colab.kernel.invokeFunction('convertToInteractive',\n",
              "                                                     [key], {});\n",
              "          if (!dataTable) return;\n",
              "\n",
              "          const docLinkHtml = 'Like what you see? Visit the ' +\n",
              "            '<a target=\"_blank\" href=https://colab.research.google.com/notebooks/data_table.ipynb>data table notebook</a>'\n",
              "            + ' to learn more about interactive tables.';\n",
              "          element.innerHTML = '';\n",
              "          dataTable['output_type'] = 'display_data';\n",
              "          await google.colab.output.renderOutput(dataTable, element);\n",
              "          const docLink = document.createElement('div');\n",
              "          docLink.innerHTML = docLinkHtml;\n",
              "          element.appendChild(docLink);\n",
              "        }\n",
              "      </script>\n",
              "    </div>\n",
              "  </div>\n",
              "  "
            ]
          },
          "metadata": {},
          "execution_count": 54
        }
      ]
    },
    {
      "cell_type": "markdown",
      "source": [
        "PLOTTING THE GRAPHS"
      ],
      "metadata": {
        "id": "QIHanxontPSk"
      }
    },
    {
      "cell_type": "code",
      "source": [
        "from mne.viz import circular_layout\n",
        "from mne_connectivity.viz import plot_connectivity_circle"
      ],
      "metadata": {
        "id": "HwLeD5uHlp7j"
      },
      "execution_count": null,
      "outputs": []
    },
    {
      "cell_type": "code",
      "source": [
        "graph = dict()"
      ],
      "metadata": {
        "id": "mqjFLiGZ0l6t"
      },
      "execution_count": null,
      "outputs": []
    },
    {
      "cell_type": "code",
      "source": [
        "#Computing the graphs for all the songs for different set thresholds\n",
        "\n",
        "graph_all = dict()\n",
        "for thresh in threshold:\n",
        "  graph_temp = dict()\n",
        "  for song_no in range(30):\n",
        "    temp = np.array((threshold_mat[song_no])[thresh])\n",
        "    G = nx.from_numpy_matrix(temp)\n",
        "    label_mapping = dict(zip(G.nodes(),ch_name))\n",
        "    H = nx.relabel_nodes(G, label_mapping)\n",
        "\n",
        "    H1 = nx.to_numpy_array(H)\n",
        "    graph_temp[song_no] = H1\n",
        "    H1 = np.zeros((14,14))\n",
        "  graph_all[thresh] = graph_temp"
      ],
      "metadata": {
        "id": "KJWQhqRF-i4n"
      },
      "execution_count": null,
      "outputs": []
    },
    {
      "cell_type": "code",
      "source": [
        "G = nx.from_numpy_matrix(graph_all[0.3][10])\n",
        "label_mapping = dict(zip(G.nodes(),ch_name))\n",
        "H = nx.relabel_nodes(G, label_mapping)\n",
        "nx.draw_networkx(H, pos = nx.circular_layout(H), label=True, node_size=600)\n",
        "\n",
        "plt.axis('off')\n",
        "plt.title('Graph after Thresholding for Subject 1 - Song 11')\n",
        "plt.savefig(\"ThGp-Song11-0.3.png\") \n",
        "plt.show()"
      ],
      "metadata": {
        "colab": {
          "base_uri": "https://localhost:8080/",
          "height": 264
        },
        "id": "dAUHCCkQ9Hsx",
        "outputId": "1e8add1d-6fc8-4ac8-d97d-495818baf72f"
      },
      "execution_count": null,
      "outputs": [
        {
          "output_type": "display_data",
          "data": {
            "text/plain": [
              "<Figure size 432x288 with 1 Axes>"
            ],
            "image/png": "[encoded data removed]"
          },
          "metadata": {}
        }
      ]
    },
    {
      "cell_type": "code",
      "source": [
        "nx.draw_networkx(H, pos = nx.spring_layout(H), label=True, width=widths, node_size=600)\n"
      ],
      "metadata": {
        "id": "xzuFJPrf8_Dt"
      },
      "execution_count": null,
      "outputs": []
    },
    {
      "cell_type": "code",
      "source": [
        "G = nx.from_numpy_matrix(graph_all[0.3][10])\n",
        "label_mapping = dict(zip(G.nodes(),ch_name))\n",
        "H = nx.relabel_nodes(G, label_mapping)\n",
        "\n",
        "all_weights = []\n",
        "#4 a. Iterate through the graph nodes to gather all the weights\n",
        "for (node1,node2,data) in G.edges(data=True):\n",
        "    all_weights.append(data['weight']) #we'll use this when determining edge thickness\n",
        "\n",
        "#4 b. Get unique weights\n",
        "unique_weights = list(set(all_weights))\n",
        "\n",
        "node_list = G.nodes()\n",
        "#4 c. Plot the edges - one by one!\n",
        "widths=[]\n",
        "for weight in unique_weights:\n",
        "    #4 d. Form a filtered list with just the weight you want to draw\n",
        "    weighted_edges = [(node1,node2) for (node1,node2,edge_attr) in G.edges(data=True) if edge_attr['weight']==weight]\n",
        "    #4 e. I think multiplying by [num_nodes/sum(all_weights)] makes the graphs edges look cleaner\n",
        "    #print(all_weights)\n",
        "    width = weight*len(node_list)*(3.0/np.sum(all_weights))\n",
        "    widths.append(width)\n",
        "nx.draw_networkx(H, pos = nx.circular_layout(H), label=True, width=widths, node_size=600)\n",
        "    \n",
        " \n",
        " #Plot the graph\n",
        "plt.axis('off')\n",
        "plt.title('Graph after Thresholding for Subject 1 - Song 11')\n",
        "plt.savefig(\"ThGrp-Song11-0.3.png\") \n",
        "plt.show()"
      ],
      "metadata": {
        "colab": {
          "base_uri": "https://localhost:8080/",
          "height": 264
        },
        "id": "xmlOz1OB8kqO",
        "outputId": "d36506c1-7eed-4284-f58e-e52d538c4da3"
      },
      "execution_count": null,
      "outputs": [
        {
          "output_type": "display_data",
          "data": {
            "text/plain": [
              "<Figure size 432x288 with 1 Axes>"
            ],
            "image/png": "[encoded data removed]"
          },
          "metadata": {}
        }
      ]
    },
    {
      "cell_type": "code",
      "source": [
        "node_list = [i+1 for i in range(14)]\n",
        "node_list"
      ],
      "metadata": {
        "id": "-KCo0UACxPba",
        "colab": {
          "base_uri": "https://localhost:8080/"
        },
        "outputId": "227d08f9-60bd-4102-98f1-77c233d093ae"
      },
      "execution_count": null,
      "outputs": [
        {
          "output_type": "execute_result",
          "data": {
            "text/plain": [
              "[1, 2, 3, 4, 5, 6, 7, 8, 9, 10, 11, 12, 13, 14]"
            ]
          },
          "metadata": {},
          "execution_count": 28
        }
      ]
    },
    {
      "cell_type": "code",
      "source": [
        "from networkx.algorithms import community\n",
        "from statistics import mean"
      ],
      "metadata": {
        "id": "pSVgqBNOA8vq"
      },
      "execution_count": null,
      "outputs": []
    },
    {
      "cell_type": "code",
      "source": [
        "print(nx.is_connected((nx.from_numpy_matrix(graph_all[0.4][1]))))"
      ],
      "metadata": {
        "id": "p_hZ6HfrMst9"
      },
      "execution_count": null,
      "outputs": []
    },
    {
      "cell_type": "code",
      "source": [
        "graph_all[0.4][1]"
      ],
      "metadata": {
        "id": "iOepinA9zTZz"
      },
      "execution_count": null,
      "outputs": []
    },
    {
      "cell_type": "code",
      "source": [
        "clustering = {'Threshold' : threshold}\n",
        "CPL = {'Threshold' : threshold}\n",
        "edge_cent = {'Threshold' : threshold}\n",
        "node_cent = {'Threshold' : threshold}\n",
        "\n",
        "for song_no in rate_1: \n",
        "  acc = [] #acc - average clustering coefficient\n",
        "  cp_len = [] #cp_len - characteristic path length\n",
        "  edbc_avg = [] #edbc_avg - edge_betweenness_centrality\n",
        "  ndbc_avg = [] #ndbc_avg - Node Betweenness centrality\n",
        "  for thresh in threshold:\n",
        "    temp = (graph_all[thresh])[song_no]\n",
        "    G = nx.from_numpy_matrix(temp)\n",
        "    label_mapping = dict(zip(G.nodes(),node_list))\n",
        "    H = nx.relabel_nodes(G, label_mapping)\n",
        "\n",
        "    #Calculating Average Clustering Coefficient\n",
        "    clus = nx.average_clustering(H)\n",
        "    acc.append(clus)\n",
        "\n",
        "    #Calculating Path length and averaging them as it is not a complete graph\n",
        "    spl = dict(nx.shortest_path_length(H))\n",
        "    sum=0\n",
        "    c=0\n",
        "    for i in node_list:\n",
        "      value = dict() \n",
        "      key = spl[i].keys()\n",
        "      for j in node_list:\n",
        "        if(j in key):\n",
        "          sum = sum+spl[i][j]\n",
        "          c=c+1\n",
        "        else:\n",
        "          continue\n",
        "    avg_pl = sum/c\n",
        "    cp_len.append(avg_pl)\n",
        "\n",
        "    #Calculating Edge Betweenness Centrality\n",
        "    edbc = mean(nx.edge_betweenness_centrality(H).values())\n",
        "    edbc_avg.append(edbc)\n",
        "\n",
        "    #Calculating Node Betweenness Centrality\n",
        "    ndbc = mean(nx.betweenness_centrality(H).values())\n",
        "    ndbc_avg.append(ndbc)\n",
        "\n",
        "  clustering[(song_no+1)] = acc\n",
        "  CPL[(song_no+1)] = cp_len\n",
        "  edge_cent[(song_no+1)] = edbc_avg\n",
        "  node_cent[(song_no+1)] = ndbc_avg\n",
        "\n",
        "df = pd.DataFrame(clustering)\n",
        "df1 = pd.DataFrame(CPL)\n",
        "df2 = pd.DataFrame(edge_cent)\n",
        "df3 = pd.DataFrame(node_cent)\n",
        "\n",
        "with pd.ExcelWriter('Songs-Rating1.xlsx') as writer:\n",
        "  df.to_excel(writer, sheet_name=\"Average Clustering Coefficient\", index=False)\n",
        "  df1.to_excel(writer, sheet_name=\"Characteristic Path Length\", index=False)\n",
        "  df2.to_excel(writer, sheet_name=\"Edge Betweenness Centrality\", index=False)\n",
        "  df3.to_excel(writer, sheet_name=\"Node Betweenness Centrality\", index=False)\n"
      ],
      "metadata": {
        "id": "iZAfYZWQ9qrq"
      },
      "execution_count": null,
      "outputs": []
    },
    {
      "cell_type": "code",
      "source": [
        "clustering = {'Threshold' : threshold}\n",
        "CPL = {'Threshold' : threshold}\n",
        "edge_cent = {'Threshold' : threshold}\n",
        "node_cent = {'Threshold' : threshold}\n",
        "\n",
        "for song_no in rate_5: \n",
        "  acc = [] #acc - average clustering coefficient\n",
        "  cp_len = [] #cp_len - characteristic path length\n",
        "  edbc_avg = [] #edbc_avg - edge_betweenness_centrality\n",
        "  ndbc_avg = [] #ndbc_avg - Node Betweenness centrality\n",
        "  for thresh in threshold:\n",
        "    temp = (graph_all[thresh])[song_no]\n",
        "    G = nx.from_numpy_matrix(temp)\n",
        "    label_mapping = dict(zip(G.nodes(),node_list))\n",
        "    H = nx.relabel_nodes(G, label_mapping)\n",
        "\n",
        "    #Calculating Average Clustering Coefficient\n",
        "    clus = nx.average_clustering(H)\n",
        "    acc.append(clus)\n",
        "\n",
        "    #Calculating Path length and averaging them as it is not a complete graph\n",
        "    spl = dict(nx.shortest_path_length(H))\n",
        "    sum=0\n",
        "    c=0\n",
        "    for i in node_list:\n",
        "      value = dict() \n",
        "      key = spl[i].keys()\n",
        "      for j in node_list:\n",
        "        if(j in key):\n",
        "          sum = sum+spl[i][j]\n",
        "          c=c+1\n",
        "        else:\n",
        "          continue\n",
        "    avg_pl = sum/c\n",
        "    cp_len.append(avg_pl)\n",
        "\n",
        "    #Calculating Edge Betweenness Centrality\n",
        "    edbc = mean(nx.edge_betweenness_centrality(H).values())\n",
        "    edbc_avg.append(edbc)\n",
        "    print(edbc)\n",
        "\n",
        "    #Calculating Node Betweenness Centrality\n",
        "    ndbc = mean(nx.betweenness_centrality(H).values())\n",
        "    ndbc_avg.append(ndbc)\n",
        "\n",
        "  clustering[(song_no+1)] = acc\n",
        "  CPL[(song_no+1)] = cp_len\n",
        "  edge_cent[(song_no+1)] = edbc_avg\n",
        "  node_cent[(song_no+1)] = ndbc_avg\n",
        "\n",
        "df = pd.DataFrame(clustering)\n",
        "df1 = pd.DataFrame(CPL)\n",
        "df2 = pd.DataFrame(edge_cent)\n",
        "df3 = pd.DataFrame(node_cent)\n",
        "\n",
        "with pd.ExcelWriter('Song-Rating5.xlsx') as writer:\n",
        "  df.to_excel(writer, sheet_name=\"Average Clustering Coefficient\", index=False)\n",
        "  df1.to_excel(writer, sheet_name=\"Characteristic Path Length\", index=False)\n",
        "  df2.to_excel(writer, sheet_name=\"Edge Betweenness Centrality\", index=False)\n",
        "  df3.to_excel(writer, sheet_name=\"Node Betweenness Centrality\", index=False)\n"
      ],
      "metadata": {
        "id": "c_vaio7UN_9-"
      },
      "execution_count": null,
      "outputs": []
    }
  ]
}